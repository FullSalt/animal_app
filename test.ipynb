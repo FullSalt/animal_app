{
 "cells": [
  {
   "cell_type": "code",
   "execution_count": 17,
   "metadata": {},
   "outputs": [],
   "source": [
    "from ultralytics import YOLO    \n",
    "\n",
    "model_path = \"best.pt\"\n",
    "model = YOLO(model_path)\n",
    "\n"
   ]
  },
  {
   "cell_type": "code",
   "execution_count": 19,
   "metadata": {},
   "outputs": [
    {
     "name": "stderr",
     "output_type": "stream",
     "text": [
      "\n",
      "libpng warning: sRGB: out of place\n",
      "image 1/1 /Users/misaya/Development/Python/Flask/Flaskでのアプリ開発/animal_app/0111.png: 384x640 3 Carps, 452.9ms\n",
      "Speed: 3.4ms preprocess, 452.9ms inference, 1.3ms postprocess per image at shape (1, 3, 384, 640)\n",
      "Results saved to \u001b[1mruns/detect/predict4\u001b[0m\n"
     ]
    }
   ],
   "source": [
    "img_path = '0111.png'\n",
    "result = model.predict(img_path, save=True)"
   ]
  },
  {
   "cell_type": "code",
   "execution_count": 11,
   "metadata": {},
   "outputs": [
    {
     "name": "stderr",
     "output_type": "stream",
     "text": [
      "\n",
      "0: 448x640 9 masks, 4 no-masks, 919.3ms\n",
      "Speed: 21.0ms preprocess, 919.3ms inference, 44.6ms postprocess per image at shape (1, 3, 448, 640)\n",
      "Results saved to \u001b[1mruns/detect/predict\u001b[0m\n"
     ]
    },
    {
     "data": {
      "text/plain": [
       "[ultralytics.engine.results.Results object with attributes:\n",
       " \n",
       " boxes: ultralytics.engine.results.Boxes object\n",
       " keypoints: None\n",
       " keys: ['boxes']\n",
       " masks: None\n",
       " names: {0: 'mask', 1: 'no-mask'}\n",
       " orig_img: array([[[202, 206, 217],\n",
       "         [212, 215, 236],\n",
       "         [ 81,  79, 115],\n",
       "         ...,\n",
       "         [ 81,  70, 108],\n",
       "         [ 84,  73, 111],\n",
       "         [ 87,  76, 114]],\n",
       " \n",
       "        [[194, 198, 209],\n",
       "         [222, 223, 243],\n",
       "         [130, 129, 163],\n",
       "         ...,\n",
       "         [ 80,  69, 107],\n",
       "         [ 81,  70, 108],\n",
       "         [ 82,  71, 109]],\n",
       " \n",
       "        [[192, 194, 205],\n",
       "         [224, 223, 243],\n",
       "         [183, 180, 212],\n",
       "         ...,\n",
       "         [ 84,  73, 113],\n",
       "         [ 83,  72, 112],\n",
       "         [ 82,  71, 111]],\n",
       " \n",
       "        ...,\n",
       " \n",
       "        [[ 35,  51,  97],\n",
       "         [ 35,  54,  99],\n",
       "         [ 21,  40,  85],\n",
       "         ...,\n",
       "         [  8,   3,   4],\n",
       "         [  8,   3,   4],\n",
       "         [  8,   3,   4]],\n",
       " \n",
       "        [[ 36,  52,  98],\n",
       "         [ 39,  58, 103],\n",
       "         [ 25,  44,  89],\n",
       "         ...,\n",
       "         [  8,   3,   4],\n",
       "         [  8,   3,   4],\n",
       "         [  8,   3,   4]],\n",
       " \n",
       "        [[ 36,  52,  98],\n",
       "         [ 42,  61, 106],\n",
       "         [ 30,  49,  94],\n",
       "         ...,\n",
       "         [  8,   3,   4],\n",
       "         [  8,   3,   4],\n",
       "         [  8,   3,   4]]], dtype=uint8)\n",
       " orig_shape: (1363, 2000)\n",
       " path: '-1x-1_jpg.rf.69d9b61e3cdb8a9047dad25099fcc8ef.jpg'\n",
       " probs: None\n",
       " save_dir: 'runs/detect/predict'\n",
       " speed: {'preprocess': 21.039724349975586, 'inference': 919.2891120910645, 'postprocess': 44.6012020111084}]"
      ]
     },
     "execution_count": 11,
     "metadata": {},
     "output_type": "execute_result"
    }
   ],
   "source": [
    "image = Image.open(img_path)\n",
    "model.predict(image, save=True)"
   ]
  },
  {
   "cell_type": "code",
   "execution_count": 10,
   "metadata": {},
   "outputs": [],
   "source": [
    "from PIL import Image\n",
    "\n",
    "image = Image.open(f'runs/detect/predict/{img_path}')"
   ]
  },
  {
   "cell_type": "code",
   "execution_count": 20,
   "metadata": {},
   "outputs": [],
   "source": [
    "# 必要なモジュールのインポート\n",
    "from werkzeug.datastructures import FileStorage\n",
    "\n",
    "# ファイルストリームの作成\n",
    "file_path = '0111.png'  # ここにファイルパスを指定\n",
    "file_stream = open(file_path, 'rb')\n",
    "file_storage = FileStorage(stream=file_stream, filename=file_path.split('/')[-1])"
   ]
  },
  {
   "cell_type": "code",
   "execution_count": 13,
   "metadata": {},
   "outputs": [
    {
     "name": "stdout",
     "output_type": "stream",
     "text": [
      "<class 'werkzeug.datastructures.FileStorage'>\n"
     ]
    }
   ],
   "source": [
    "# FileStorageオブジェクトの確認\n",
    "print(type(file_storage))"
   ]
  },
  {
   "cell_type": "code",
   "execution_count": 21,
   "metadata": {},
   "outputs": [],
   "source": [
    "image = Image.open(file_storage.stream)"
   ]
  },
  {
   "cell_type": "code",
   "execution_count": 25,
   "metadata": {},
   "outputs": [
    {
     "data": {
      "text/plain": [
       "PIL.PngImagePlugin.PngImageFile"
      ]
     },
     "execution_count": 25,
     "metadata": {},
     "output_type": "execute_result"
    }
   ],
   "source": [
    "type(image)"
   ]
  },
  {
   "cell_type": "code",
   "execution_count": 31,
   "metadata": {},
   "outputs": [],
   "source": [
    "import numpy as np\n",
    "import cv2"
   ]
  },
  {
   "cell_type": "code",
   "execution_count": 32,
   "metadata": {},
   "outputs": [],
   "source": [
    "numpy_image = np.array(image)"
   ]
  },
  {
   "cell_type": "code",
   "execution_count": 33,
   "metadata": {},
   "outputs": [],
   "source": [
    "numpy_image = cv2.cvtColor(numpy_image, cv2.COLOR_RGB2BGR)"
   ]
  },
  {
   "cell_type": "code",
   "execution_count": 34,
   "metadata": {},
   "outputs": [
    {
     "name": "stderr",
     "output_type": "stream",
     "text": [
      "\n",
      "0: 384x640 (no detections), 523.7ms\n",
      "Speed: 27.6ms preprocess, 523.7ms inference, 0.8ms postprocess per image at shape (1, 3, 384, 640)\n",
      "Results saved to \u001b[1mruns/detect/predict4\u001b[0m\n"
     ]
    },
    {
     "data": {
      "text/plain": [
       "[ultralytics.engine.results.Results object with attributes:\n",
       " \n",
       " boxes: ultralytics.engine.results.Boxes object\n",
       " keypoints: None\n",
       " keys: ['boxes']\n",
       " masks: None\n",
       " names: {0: 'Carp', 1: 'Reds', 2: 'chiben'}\n",
       " orig_img: array([[[  4,   4,   4],\n",
       "         [  4,   4,   4],\n",
       "         [  4,   4,   4],\n",
       "         ...,\n",
       "         [ 22,  22,  22],\n",
       "         [ 22,  22,  22],\n",
       "         [  0,   0,   0]],\n",
       " \n",
       "        [[  4,   4,   4],\n",
       "         [  4,   4,   4],\n",
       "         [  4,   4,   4],\n",
       "         ...,\n",
       "         [ 22,  22,  22],\n",
       "         [ 22,  22,  22],\n",
       "         [  0,   0,   0]],\n",
       " \n",
       "        [[  4,   4,   4],\n",
       "         [  4,   4,   4],\n",
       "         [  4,   4,   4],\n",
       "         ...,\n",
       "         [ 22,  22,  22],\n",
       "         [ 22,  22,  22],\n",
       "         [  0,   0,   0]],\n",
       " \n",
       "        ...,\n",
       " \n",
       "        [[133, 133, 133],\n",
       "         [104, 104, 104],\n",
       "         [ 70,  70,  70],\n",
       "         ...,\n",
       "         [155, 155, 155],\n",
       "         [192, 192, 192],\n",
       "         [  3,   3,   3]],\n",
       " \n",
       "        [[119, 119, 119],\n",
       "         [ 36,  36,  36],\n",
       "         [ 65,  65,  65],\n",
       "         ...,\n",
       "         [187, 187, 187],\n",
       "         [160, 160, 160],\n",
       "         [  3,   3,   3]],\n",
       " \n",
       "        [[113, 113, 113],\n",
       "         [ 39,  39,  39],\n",
       "         [ 66,  66,  66],\n",
       "         ...,\n",
       "         [192, 192, 192],\n",
       "         [185, 185, 185],\n",
       "         [  3,   3,   3]]], dtype=uint8)\n",
       " orig_shape: (477, 849)\n",
       " path: 'image0.jpg'\n",
       " probs: None\n",
       " save_dir: 'runs/detect/predict4'\n",
       " speed: {'preprocess': 27.585744857788086, 'inference': 523.6899852752686, 'postprocess': 0.8120536804199219}]"
      ]
     },
     "execution_count": 34,
     "metadata": {},
     "output_type": "execute_result"
    }
   ],
   "source": [
    "model.predict(numpy_image, save=True)"
   ]
  }
 ],
 "metadata": {
  "kernelspec": {
   "display_name": "flask",
   "language": "python",
   "name": "python3"
  },
  "language_info": {
   "codemirror_mode": {
    "name": "ipython",
    "version": 3
   },
   "file_extension": ".py",
   "mimetype": "text/x-python",
   "name": "python",
   "nbconvert_exporter": "python",
   "pygments_lexer": "ipython3",
   "version": "3.9.13"
  }
 },
 "nbformat": 4,
 "nbformat_minor": 2
}
