{
 "cells": [
  {
   "cell_type": "code",
   "execution_count": 1,
   "metadata": {},
   "outputs": [
    {
     "name": "stderr",
     "output_type": "stream",
     "text": [
      "\n",
      "image 1/1 /Users/misaya/Development/Python/Flask/Flaskでのアプリ開発/animal_app/-1x-1_jpg.rf.69d9b61e3cdb8a9047dad25099fcc8ef.jpg: 448x640 9 masks, 4 no-masks, 269.6ms\n",
      "Speed: 3.3ms preprocess, 269.6ms inference, 2.0ms postprocess per image at shape (1, 3, 448, 640)\n",
      "Results saved to \u001b[1mruns/detect/predict\u001b[0m\n"
     ]
    }
   ],
   "source": [
    "from ultralytics import YOLO    \n",
    "\n",
    "model_path = \"best.pt\"\n",
    "model = YOLO(model_path)\n",
    "\n"
   ]
  },
  {
   "cell_type": "code",
   "execution_count": 3,
   "metadata": {},
   "outputs": [
    {
     "name": "stderr",
     "output_type": "stream",
     "text": [
      "\n",
      "image 1/1 /Users/misaya/Development/Python/Flask/Flaskでのアプリ開発/animal_app/-1x-1_jpg.rf.69d9b61e3cdb8a9047dad25099fcc8ef.jpg: 448x640 9 masks, 4 no-masks, 384.4ms\n",
      "Speed: 7.3ms preprocess, 384.4ms inference, 1.7ms postprocess per image at shape (1, 3, 448, 640)\n"
     ]
    }
   ],
   "source": [
    "img_path = '-1x-1_jpg.rf.69d9b61e3cdb8a9047dad25099fcc8ef.jpg'\n",
    "result = model.predict(img_path, save=True)"
   ]
  },
  {
   "cell_type": "code",
   "execution_count": 10,
   "metadata": {},
   "outputs": [],
   "source": [
    "from PIL import Image\n",
    "\n",
    "image = Image.open(f'runs/detect/predict/{img_path}')"
   ]
  }
 ],
 "metadata": {
  "kernelspec": {
   "display_name": "flask",
   "language": "python",
   "name": "python3"
  },
  "language_info": {
   "codemirror_mode": {
    "name": "ipython",
    "version": 3
   },
   "file_extension": ".py",
   "mimetype": "text/x-python",
   "name": "python",
   "nbconvert_exporter": "python",
   "pygments_lexer": "ipython3",
   "version": "3.9.13"
  }
 },
 "nbformat": 4,
 "nbformat_minor": 2
}
